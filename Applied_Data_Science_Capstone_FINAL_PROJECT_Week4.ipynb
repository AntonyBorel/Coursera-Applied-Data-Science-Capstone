{
 "cells": [
  {
   "cell_type": "markdown",
   "metadata": {},
   "source": [
    "***"
   ]
  },
  {
   "cell_type": "markdown",
   "metadata": {},
   "source": [
    "<h1 align=\"center\"><font color=darkblue>BUDAPEST HARMONY</font></h1>"
   ]
  },
  {
   "cell_type": "markdown",
   "metadata": {},
   "source": [
    "***"
   ]
  },
  {
   "cell_type": "markdown",
   "metadata": {},
   "source": [
    "<h2 align=\"center\">Where to install your startup to guarantee a pleasant working and rest environment for your collaborators?</h2>"
   ]
  },
  {
   "cell_type": "markdown",
   "metadata": {},
   "source": [
    "***"
   ]
  },
  {
   "cell_type": "markdown",
   "metadata": {},
   "source": [
    "## Table of contents\n",
    "* [I.Introduction: Business Problem](#introduction)\n",
    "* [II. Data](#data)\n",
    "* [III. Methodology](#methodology)\n",
    "* [IV. Results](#results)\n",
    "* [V. Discussion](#discussion)\n",
    "* [VI. Conclusion](#conclusion)"
   ]
  },
  {
   "cell_type": "markdown",
   "metadata": {},
   "source": [
    "## I. Introduction: Business Problem <a name=\"introduction\"></a>"
   ]
  },
  {
   "cell_type": "markdown",
   "metadata": {},
   "source": [
    "An Hungarian startup is quickly growing. Its current headquarter is a small room in the countryside, located 4 hours from the capital city, Budapest. **The company needs to relocate its headquarters in Budapest** in a larger space as the collaborators are getting more numerous and they have to go abroad and host partners from abroad to maintain and increase the international growth of the company. The two founders of the company pays particular attention to the **well-being of their collaborators and their partners visiting the company**. Therefore, the choice of their new headquarter will be highly related to the accessibility of facilities allowing relaxing and/or facilitating the **daily harmony between professional and personal activities**.\n",
    "\n",
    "The startup founders are thus **asking for suggestion about where to settle their new headquarter**. The location of the new headquarters must meet the following criteria:\n",
    "- one of the famous **official (thermal) bath** from Budapest should be no more than **1km** (as the crow flies) from the headquarter\n",
    "- a **conference center** should be no more than **1km** (as the crow flies) from the headquarter\n",
    "- a **library** should be no more than **1km** (as the crow flies) from the headquarter\n",
    "- at least one restaurant providing **vegetarian or vegan food** and one restaurant providing **hungarian food** should be no more than **500m** (as the crow flies) from the headquarter\n",
    "- a **fitness center** should be no more than **500m** (as the crow flies) from the headquarter\n",
    "- location from the Liszt Ferenc **International Airport** of Budapest is also important. Going to the airport should take **less than 45 minutes** by car/taxi.\n",
    "\n",
    "In case of more than one location responding to all the criteria, the duration of the trip from/to the airport could be used to hierarchise these locations."
   ]
  },
  {
   "cell_type": "markdown",
   "metadata": {},
   "source": [
    "## II. Data <a name=\"data\"></a>"
   ]
  },
  {
   "cell_type": "markdown",
   "metadata": {},
   "source": [
    "Based on the request from the startup we have to gather geospatial data as well as name and categories of venues in Budapest in order to find a solution which meets the given criteria.\n",
    "\n",
    "**Geopy** will be used to obtain **latitude and longitude of Budapest city and Budapest international airport**. It will also be used to get coordinates of the suggested places for the headquarter if these places can be precise enough.\n",
    "\n",
    "The given distance for the first 5 criteria are \"as the crow flies\" so we will use **Foursquare API** (https://developer.foursquare.com/) to get coordinates of the venues as **latitude and longitude associated with name and categories** of each of them. However, a maximum duration for the trip by car/taxi to the airport is given, this information cannot be obtain through Foursquare. So, to obtain distance and **trip duration to the airport** we will use **MapQuest API** (https://developer.mapquest.com/).\n",
    "\n",
    "The startup founders precise that they wish to be close to an \"official (thermal) bath\" of Budapest. So we will consider only official baths, results from Foursquare will have to be filtered with this purpose. Based on the official website of Budapest baths (http://www.budapestgyogyfurdoi.hu/gyogyfurdok-es-strandok) we know that there are **12 official baths**: Széchenyi, Gellért, Rudas, Lukács, Király, Dandár, Paskál, Palatinus, Csillaghegy, Pesterzsébet, Római and Pünkösdfürdő.\n",
    "\n"
   ]
  }
 ],
 "metadata": {
  "kernelspec": {
   "display_name": "Python 3",
   "language": "python",
   "name": "python3"
  },
  "language_info": {
   "codemirror_mode": {
    "name": "ipython",
    "version": 3
   },
   "file_extension": ".py",
   "mimetype": "text/x-python",
   "name": "python",
   "nbconvert_exporter": "python",
   "pygments_lexer": "ipython3",
   "version": "3.7.6"
  }
 },
 "nbformat": 4,
 "nbformat_minor": 4
}
